{
  "nbformat": 4,
  "nbformat_minor": 0,
  "metadata": {
    "colab": {
      "provenance": [],
      "authorship_tag": "ABX9TyM6a+lYrqSlaP/3LvT43bI2"
    },
    "kernelspec": {
      "name": "python3",
      "display_name": "Python 3"
    },
    "language_info": {
      "name": "python"
    }
  },
  "cells": [
    {
      "cell_type": "code",
      "execution_count": 1,
      "metadata": {
        "id": "22I9jOPasUcL"
      },
      "outputs": [],
      "source": [
        "import pandas as pd\n",
        "import numpy as np\n",
        "import torch\n",
        "import torch.nn as nn\n",
        "import torch.optim as optim\n",
        "from torch.autograd import Variable\n",
        "from scipy.stats import norm, gaussian_kde\n",
        "import matplotlib.pyplot as plt"
      ]
    },
    {
      "cell_type": "code",
      "source": [
        "MISS_NUM = '18' # 6, 12, 18, 24\n",
        "DATA_NUM = '9918' # 9918"
      ],
      "metadata": {
        "id": "hsL_zdpIsZX8"
      },
      "execution_count": 2,
      "outputs": []
    },
    {
      "cell_type": "code",
      "source": [
        "Data = pd.read_csv(\"Data\"+DATA_NUM+\"_30min.csv\", index_col=0)\n",
        "num_day  = 366\n",
        "num_time = 48\n",
        "data = np.array(Data)/np.max(np.array(Data))\n",
        "data_miss = np.array(pd.read_csv(\"DATA\"+DATA_NUM+\"_MISS\"+MISS_NUM+\".csv\", index_col=0))"
      ],
      "metadata": {
        "id": "MpYfWiFYscki"
      },
      "execution_count": 3,
      "outputs": []
    },
    {
      "cell_type": "code",
      "source": [
        "print(\"mean: {}\".format(round(np.mean(data),4)))\n",
        "print(\"std: {}\".format(round(np.std(data),4)))\n",
        "print(\"min: {}\".format(round(np.min(data),4)))\n",
        "print(\"25%: {}\".format(round(np.quantile(data,0.25),4)))\n",
        "print(\"50%: {}\".format(round(np.quantile(data,0.5),4)))\n",
        "print(\"75%: {}\".format(round(np.quantile(data,0.75),4)))\n",
        "print(\"max: {}\".format(round(np.max(data),4)))"
      ],
      "metadata": {
        "id": "v-2uDe3-sgGk"
      },
      "execution_count": null,
      "outputs": []
    },
    {
      "cell_type": "code",
      "source": [
        "range1 = [6*x-6 for x in range(1,62)]\n",
        "range2 = [6*x-5 for x in range(1,62)]\n",
        "range3 = [6*x-4 for x in range(1,62)]\n",
        "range4 = [6*x-3 for x in range(1,62)]\n",
        "range5 = [6*x-2 for x in range(1,62)]\n",
        "range6 = [6*x-1 for x in range(1,62)]\n",
        "\n",
        "range_test = range6\n",
        "\n",
        "l = int(MISS_NUM)\n",
        "mean_corrector_test = 48/l\n",
        "\n",
        "data_test       = data[range_test]\n",
        "data_test_miss  = data_miss[range_test]"
      ],
      "metadata": {
        "id": "3w6zi1pMshDU"
      },
      "execution_count": 5,
      "outputs": []
    },
    {
      "cell_type": "code",
      "source": [
        "# Historical Average\n",
        "\n",
        "data_test_HA = data_test_miss.copy()\n",
        "for i in range(len(data_test_HA)):\n",
        "    j = np.where(data_test_miss[i]==0)[0][0]\n",
        "    d1 = max(range_test[i % len(range_test)] - 1, 0)\n",
        "    d2 = min(range_test[i % len(range_test)] + 1, len(data)-1)\n",
        "    data_test_HA[i][j:j+l] = 0.5*(data[d1][j:j+l] + data[d2][j:j+l])\n",
        "data_test_HA[data_test_miss != 0] = 0\n",
        "\n",
        "mse_test = np.mean(np.square(data_test_HA - (data_test - data_test_miss)))*mean_corrector_test\n",
        "mae_test = np.mean(np.abs(data_test_HA - (data_test - data_test_miss)))*mean_corrector_test\n",
        "\n",
        "NRMSE_test_HA = round(100*np.sqrt(mse_test),2)\n",
        "NMAE_test_HA  = round(100*mae_test,2)"
      ],
      "metadata": {
        "id": "VmGmANxItOgv"
      },
      "execution_count": 6,
      "outputs": []
    },
    {
      "cell_type": "code",
      "source": [
        "# Linear Interpolation\n",
        "\n",
        "def LI(v_left, v_right):\n",
        "    x = np.array(range(1,l+1))\n",
        "    y = (v_right - v_left)*x/(l+1) + v_left\n",
        "    return y\n",
        "\n",
        "data_test_LI = data_test_miss.copy()\n",
        "for i in range(len(data_test_LI)):\n",
        "    j = np.where(data_test_miss[i]==0)[0][0]\n",
        "    j_left  = np.where(data_test_miss[i]==0)[0][0] - 1\n",
        "    j_right = np.where(data_test_miss[i]==0)[0][-1] + 1\n",
        "    v_left  = data_test_miss[i][j_left]\n",
        "    v_right = data_test_miss[i][j_right]\n",
        "    data_test_LI[i][j:j+l] = LI(v_left, v_right)\n",
        "data_test_LI[data_test_miss != 0] = 0\n",
        "\n",
        "mse_test = np.mean(np.square(data_test_LI - (data_test - data_test_miss)))*mean_corrector_test\n",
        "mae_test = np.mean(np.abs(data_test_LI - (data_test - data_test_miss)))*mean_corrector_test\n",
        "\n",
        "NRMSE_test_LI = round(100*np.sqrt(mse_test),2)\n",
        "NMAE_test_LI  = round(100*mae_test,2)"
      ],
      "metadata": {
        "id": "h8XUCxv0tUVf"
      },
      "execution_count": 7,
      "outputs": []
    },
    {
      "cell_type": "code",
      "source": [
        "# AE\n",
        "\n",
        "class AE(nn.Module):\n",
        "    def __init__(self):\n",
        "        super(AE, self).__init__()\n",
        "        self.fc1 = nn.Linear(48, 32)\n",
        "        self.fc2 = nn.Linear(32, 16)\n",
        "        self.fc3 = nn.Linear(16, 32)\n",
        "        self.fc4 = nn.Linear(32, 48)\n",
        "        self.activation = nn.Sigmoid() #nn.ReLU()\n",
        "\n",
        "    def forward(self, x):\n",
        "        x = self.fc1(x)\n",
        "        x = self.activation(x)\n",
        "        z = self.fc2(x)\n",
        "        y = self.activation(z)\n",
        "        y = self.fc3(y)\n",
        "        y = self.activation(y)\n",
        "        y = self.fc4(y)\n",
        "        return z, y\n",
        "\n",
        "    def decoder(self, z):\n",
        "        y = self.activation(z)\n",
        "        y = self.fc3(y)\n",
        "        y = self.activation(y)\n",
        "        y = self.fc4(y)\n",
        "        return y"
      ],
      "metadata": {
        "id": "Mbymg-8Uth8d"
      },
      "execution_count": 8,
      "outputs": []
    },
    {
      "cell_type": "code",
      "source": [
        "dae = AE()\n",
        "\n",
        "dae.load_state_dict(torch.load('DAE_'+DATA_NUM+'_'+MISS_NUM+'.pt'))\n",
        "\n",
        "data_test_DAE  = dae.forward(torch.tensor(data_test_miss, dtype=torch.float))[1].detach().numpy()\n",
        "\n",
        "data_test_DAE[data_test_miss != 0] = 0\n",
        "\n",
        "mse_test = np.mean(np.square(data_test_DAE - (data_test - data_test_miss)))*mean_corrector_test\n",
        "mae_test = np.mean(np.abs(data_test_DAE - (data_test - data_test_miss)))*mean_corrector_test\n",
        "\n",
        "NRMSE_test_DAE = round(100*np.sqrt(mse_test),2)\n",
        "NMAE_test_DAE  = round(100*mae_test,2)"
      ],
      "metadata": {
        "id": "0xyE4Y4Ctnvp"
      },
      "execution_count": 9,
      "outputs": []
    },
    {
      "cell_type": "code",
      "source": [
        "mae = AE()\n",
        "\n",
        "mae.load_state_dict(torch.load('MAE_'+DATA_NUM+'_'+MISS_NUM+'.pt'))\n",
        "\n",
        "data_test_MAE  = mae.forward(torch.tensor(data_test_miss, dtype=torch.float))[1].detach().numpy()\n",
        "\n",
        "data_test_MAE[data_test_miss != 0] = 0\n",
        "\n",
        "mse_test = np.mean(np.square(data_test_MAE - (data_test - data_test_miss)))*mean_corrector_test\n",
        "mae_test = np.mean(np.abs(data_test_MAE - (data_test - data_test_miss)))*mean_corrector_test\n",
        "\n",
        "NRMSE_test_MAE = round(100*np.sqrt(mse_test),2)\n",
        "NMAE_test_MAE  = round(100*mae_test,2)"
      ],
      "metadata": {
        "id": "4PTut8BztpCU"
      },
      "execution_count": 10,
      "outputs": []
    },
    {
      "cell_type": "code",
      "source": [
        "dmae1 = AE()\n",
        "\n",
        "dmae1.load_state_dict(torch.load('DMAE1_'+DATA_NUM+'_'+MISS_NUM+'.pt'))\n",
        "\n",
        "data_test_DMAE1  = dmae1.forward(torch.tensor(data_test_miss, dtype=torch.float))[1].detach().numpy()\n",
        "\n",
        "data_test_DMAE1[data_test_miss != 0] = 0\n",
        "\n",
        "mse_test = np.mean(np.square(data_test_DMAE1 - (data_test - data_test_miss)))*mean_corrector_test\n",
        "mae_test = np.mean(np.abs(data_test_DMAE1 - (data_test - data_test_miss)))*mean_corrector_test\n",
        "\n",
        "NRMSE_test_DMAE1 = round(100*np.sqrt(mse_test),2)\n",
        "NMAE_test_DMAE1  = round(100*mae_test,2)"
      ],
      "metadata": {
        "id": "5S4rH-DNtqMu"
      },
      "execution_count": 11,
      "outputs": []
    },
    {
      "cell_type": "code",
      "source": [
        "dmae2 = AE()\n",
        "\n",
        "dmae2.load_state_dict(torch.load('DMAE2_'+DATA_NUM+'_'+MISS_NUM+'.pt'))\n",
        "\n",
        "data_test_DMAE2  = dmae2.forward(torch.tensor(data_test_miss, dtype=torch.float))[1].detach().numpy()\n",
        "\n",
        "data_test_DMAE2[data_test_miss != 0] = 0\n",
        "\n",
        "mse_test = np.mean(np.square(data_test_DMAE2 - (data_test - data_test_miss)))*mean_corrector_test\n",
        "mae_test = np.mean(np.abs(data_test_DMAE2 - (data_test - data_test_miss)))*mean_corrector_test\n",
        "\n",
        "NRMSE_test_DMAE2 = round(100*np.sqrt(mse_test),2)\n",
        "NMAE_test_DMAE2  = round(100*mae_test,2)"
      ],
      "metadata": {
        "id": "MkuYp3AHtrLZ"
      },
      "execution_count": 12,
      "outputs": []
    },
    {
      "cell_type": "code",
      "source": [
        "print(\"Historical Average\".ljust(40), end=\"\")\n",
        "print(\"NRMSE_test: {}%\".format(NRMSE_test_HA).ljust(25), end=\"\")\n",
        "print(\"NMAE_test: {}%\".format(NMAE_test_HA).ljust(25))\n",
        "print(\"Linear Interpolation\".ljust(40), end=\"\")\n",
        "print(\"NRMSE_test: {}%\".format(NRMSE_test_LI).ljust(25), end=\"\")\n",
        "print(\"NMAE_test: {}%\".format(NMAE_test_LI).ljust(25))\n",
        "print(\"Denoising Autoencoder\".ljust(40), end=\"\")\n",
        "print(\"NRMSE_test: {}%\".format(NRMSE_test_DAE).ljust(25), end=\"\")\n",
        "print(\"NMAE_test: {}%\".format(NMAE_test_DAE).ljust(25))\n",
        "print(\"Masked Autoencoder\".ljust(40), end=\"\")\n",
        "print(\"NRMSE_test: {}%\".format(NRMSE_test_MAE).ljust(25), end=\"\")\n",
        "print(\"NMAE_test: {}%\".format(NMAE_test_MAE).ljust(25))\n",
        "print(\"Denoising Masked Autoencoder 1\".ljust(40), end=\"\")\n",
        "print(\"NRMSE_test: {}%\".format(NRMSE_test_DMAE1).ljust(25), end=\"\")\n",
        "print(\"NMAE_test: {}%\".format(NMAE_test_DMAE1).ljust(25))\n",
        "print(\"Denoising Masked Autoencoder 2\".ljust(40), end=\"\")\n",
        "print(\"NRMSE_test: {}%\".format(NRMSE_test_DMAE2).ljust(25), end=\"\")\n",
        "print(\"NMAE_test: {}%\".format(NMAE_test_DMAE2).ljust(25))"
      ],
      "metadata": {
        "id": "YJ6S4WRUtsL6"
      },
      "execution_count": null,
      "outputs": []
    },
    {
      "cell_type": "code",
      "source": [
        "# Feature PDF\n",
        "\n",
        "fake_z_dmae1 = dmae1.forward(torch.tensor(data_test_miss, dtype=torch.float))[0].detach().numpy().flatten()\n",
        "fake_z_dmae2 = dmae2.forward(torch.tensor(data_test_miss, dtype=torch.float))[0].detach().numpy().flatten()\n",
        "\n",
        "xs = np.linspace(-10.0, 10.0, 200)\n",
        "pdf_feature_dmae1 = gaussian_kde(fake_z_dmae1)\n",
        "pdf_feature_dmae2 = gaussian_kde(fake_z_dmae2)\n",
        "fig_gaussian_pdf = plt.figure()\n",
        "plt.plot(xs, pdf_feature_dmae1(xs), 'b', linewidth=2.5, label='DMAE1')\n",
        "#plt.plot(xs, pdf_feature_dmae2(xs), 'b', linewidth=2.5, label='DMAE2')\n",
        "plt.xticks(fontsize = 12)\n",
        "plt.yticks(fontsize = 12)\n",
        "plt.xlabel(\"Feature Value\", fontsize=14)\n",
        "plt.ylabel(\"PDF\", fontsize=14)\n",
        "plt.grid(linestyle='--', linewidth=0.5)\n",
        "#plt.legend(fontsize=14, loc=1)\n",
        "plt.show()\n",
        "fig_gaussian_pdf.savefig('fig_gaussian_pdf_'+DATA_NUM+'_'+MISS_NUM+'.pdf', bbox_inches='tight', format='pdf', dpi=1000)"
      ],
      "metadata": {
        "id": "Dkz9ZHiI4aIK"
      },
      "execution_count": null,
      "outputs": []
    },
    {
      "cell_type": "code",
      "source": [
        "s = int(num_day*num_time/6/(96/int(MISS_NUM)))\n",
        "\n",
        "test_loss_list_HA = np.sort(np.abs(data_test_HA - (data_test - data_test_miss)).flatten())[-s:]\n",
        "test_loss_list_LI = np.sort(np.abs(data_test_LI - (data_test - data_test_miss)).flatten())[-s:]\n",
        "test_loss_list_DAE = np.sort(np.abs(data_test_DAE - (data_test - data_test_miss)).flatten())[-s:]\n",
        "test_loss_list_MAE = np.sort(np.abs(data_test_MAE - (data_test - data_test_miss)).flatten())[-s:]\n",
        "test_loss_list_DMAE1 = np.sort(np.abs(data_test_DMAE1 - (data_test - data_test_miss)).flatten())[-s:]\n",
        "test_loss_list_DMAE2 = np.sort(np.abs(data_test_DMAE2 - (data_test - data_test_miss)).flatten())[-s:]\n",
        "\n",
        "cdf_ha    = np.arange(1, len(test_loss_list_HA)+1) / len(test_loss_list_HA)\n",
        "cdf_li    = np.arange(1, len(test_loss_list_LI)+1) / len(test_loss_list_LI)\n",
        "cdf_dae   = np.arange(1, len(test_loss_list_DAE)+1) / len(test_loss_list_DAE)\n",
        "cdf_mae   = np.arange(1, len(test_loss_list_MAE)+1) / len(test_loss_list_MAE)\n",
        "cdf_dmae1 = np.arange(1, len(test_loss_list_DMAE1)+1) / len(test_loss_list_DMAE1)\n",
        "cdf_dmae2 = np.arange(1, len(test_loss_list_DMAE2)+1) / len(test_loss_list_DMAE2)\n",
        "fig_cdf = plt.figure()\n",
        "plt.plot(test_loss_list_HA, cdf_ha, 'm-.', label='HA')\n",
        "plt.plot(test_loss_list_LI, cdf_li, 'c-.', label='LI')\n",
        "plt.plot(test_loss_list_DAE, cdf_dae, 'g--', label='DAE')\n",
        "plt.plot(test_loss_list_MAE, cdf_mae, 'r--', label='MAE')\n",
        "plt.plot(test_loss_list_DMAE1, cdf_dmae1, 'b', label='DMAE')\n",
        "#plt.plot(test_loss_list_DMAE2, cdf_dmae2, 'b', label='DMAE2')\n",
        "plt.xticks(fontsize = 12)\n",
        "plt.yticks(fontsize = 12)\n",
        "plt.xlabel(\"Normalized Test Loss\", fontsize=14)\n",
        "plt.ylabel(\"CDF\", fontsize=14)\n",
        "plt.xlim([0.0,0.5])\n",
        "plt.grid(linestyle='--', linewidth=0.5)\n",
        "plt.legend(fontsize=14, loc=4)\n",
        "plt.show()\n",
        "fig_cdf.savefig('fig_cdf_'+DATA_NUM+'_'+MISS_NUM+'.pdf', bbox_inches='tight', format='pdf', dpi=1000)"
      ],
      "metadata": {
        "id": "znkBEg3ZttM7"
      },
      "execution_count": null,
      "outputs": []
    },
    {
      "cell_type": "code",
      "source": [
        "# Example (DATA9918_MISS24: 17 / DATA9918_MISS24: 17)\n",
        "eg = 17\n",
        "\n",
        "hour = []\n",
        "data_eg_actual = []\n",
        "data_eg_HA    = []; data_eg_LI    = []\n",
        "data_eg_DAE   = []; data_eg_MAE   = [];\n",
        "data_eg_DMAE1 = []; data_eg_DMAE2 = []\n",
        "for i in range(num_time):\n",
        "    if not np.isclose(data_test_HA[eg][i], 0.0):\n",
        "        hour += [(i+1)/4]\n",
        "        data_eg_actual += [data_test[eg][i]]\n",
        "        data_eg_HA    += [data_test_HA[eg][i]]\n",
        "        data_eg_LI    += [data_test_LI[eg][i]]\n",
        "        data_eg_DAE   += [data_test_DAE[eg][i]]\n",
        "        data_eg_MAE   += [data_test_MAE[eg][i]]\n",
        "        data_eg_DMAE1 += [data_test_DMAE1[eg][i]]\n",
        "        data_eg_DMAE2 += [data_test_DMAE2[eg][i]]\n",
        "\n",
        "fig_eg = plt.figure()\n",
        "plt.plot(hour, np.abs(data_eg_actual), 'k', linewidth=2.5, label='Actual')\n",
        "plt.plot(hour, np.abs(data_eg_HA), 'm-.', label='HA')\n",
        "plt.plot(hour, np.abs(data_eg_LI), 'c-.', label='LI')\n",
        "plt.plot(hour, np.abs(data_eg_DAE), 'g--', label='DAE')\n",
        "plt.plot(hour, np.abs(data_eg_MAE), 'r--', label='MAE')\n",
        "plt.plot(hour, np.abs(data_eg_DMAE1), 'b', label='DMAE')\n",
        "#plt.plot(hour, np.abs(data_eg_DMAE2), 'b', label='DMAE2')\n",
        "plt.xticks(fontsize = 12)\n",
        "plt.yticks(fontsize = 12)\n",
        "plt.xlabel(\"Hour\", fontsize=14)\n",
        "plt.ylabel(\"Normalized Load\", fontsize=14)\n",
        "plt.grid(linestyle='--', linewidth=0.5)\n",
        "plt.legend(fontsize=10, loc=4)\n",
        "plt.show()\n",
        "fig_eg.savefig('fig_eg_'+DATA_NUM+'_'+MISS_NUM+'.pdf', bbox_inches='tight', format='pdf', dpi=1000)"
      ],
      "metadata": {
        "id": "kG_imuaq42vD"
      },
      "execution_count": null,
      "outputs": []
    }
  ]
}